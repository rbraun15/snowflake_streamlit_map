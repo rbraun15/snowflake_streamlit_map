{
 "metadata": {
  "kernelspec": {
   "display_name": "Streamlit Notebook",
   "name": "streamlit"
  }
 },
 "nbformat_minor": 5,
 "nbformat": 4,
 "cells": [
  {
   "cell_type": "code",
   "id": "8d50cbf4-0c8d-4950-86cb-114990437ac9",
   "metadata": {
    "language": "sql",
    "name": "cell2",
    "resultHeight": 87,
    "collapsed": false
   },
   "source": "--https://services3.arcgis.com/bWPjFyq029ChCGur/arcgis/rest/services/Transmission_Line/FeatureServer/2/query?outFields=*&where=1%3D1&f=geojson\n\n--ALLOW ACCESS TO WEBSITE TO QUERY\nCREATE OR REPLACE NETWORK RULE arcgis_rule\n  MODE = EGRESS\n  TYPE = HOST_PORT\n  VALUE_LIST = ('services3.arcgis.com');\n\nCREATE OR REPLACE EXTERNAL ACCESS INTEGRATION ARCGIS_Access_integration\n  ALLOWED_NETWORK_RULES = (arcgis_rule)\n  ENABLED = true;\n",
   "execution_count": null,
   "outputs": []
  },
  {
   "cell_type": "code",
   "id": "2ac37613-45fc-48d0-87bd-e2d0f1226599",
   "metadata": {
    "language": "sql",
    "name": "cell1",
    "resultHeight": 112,
    "collapsed": false
   },
   "outputs": [],
   "source": "--PYTHON FUNCTION TO READ URLS. THE HEADER INFORMATION IS THERE TO BYPASS PYTHON DENIAL FROM CDN\n\n-- CDN is content delivery network\n--    To successfully bypass CDN restrictions, you would typically include headers in the request, such as:\n\n--    User-Agent: Mimicking a real browser's user-agent string so that the server thinks the request is coming from a legitimate web browser rather than a script.\n--    Referer: The referer header might be included to make the request look like it is coming from a legitimate page.\n--    Authorization: Some CDNs might require an API key or token for access, especially if the content is restricted.\n\n \n\n\nCREATE OR REPLACE FUNCTION get_url(url string)\nRETURNS STRING\nLANGUAGE PYTHON\nRUNTIME_VERSION = 3.10\nHANDLER = 'get_url'\nEXTERNAL_ACCESS_INTEGRATIONS = (ARCGIS_Access_integration)\nPACKAGES = ('snowflake-snowpark-python','requests')\nAS\n$$\nimport _snowflake\nimport requests\nimport json\nsession = requests.Session()\ndef get_url(url):\n\n    response = session.get(url)\n    return response.text\n$$;",
   "execution_count": null
  },
  {
   "cell_type": "code",
   "id": "12eb5c07-c763-4e90-93c5-98d190f3c3de",
   "metadata": {
    "language": "sql",
    "name": "cell3",
    "resultHeight": 112,
    "collapsed": false
   },
   "outputs": [],
   "source": "-- As is the url is one big \"record\" or blob\n-- PARSE_JSON() is primarily used when you have a JSON string (as text) and want to convert it into a VARIANT so that you can easily query or manipulate the data inside it, using Snowflake’s built-in functions for working with semi-structured data.\n\n-- CEC table created below is just one record\n\n\ncreate or replace table cec as\nselect parse_json(get_url('https://services3.arcgis.com/bWPjFyq029ChCGur/arcgis/rest/services/Transmission_Line/FeatureServer/2/query?outFields=*&where=1%3D1&f=geojson'))::variant data;\n",
   "execution_count": null
  },
  {
   "cell_type": "code",
   "id": "33e3a78d-e463-4463-8426-dd6ded933043",
   "metadata": {
    "language": "sql",
    "name": "cell4",
    "resultHeight": 112,
    "collapsed": false
   },
   "outputs": [],
   "source": "\n-- in the json from data we are selecting \n--    data is assumed to be the variant column\n--    features is an array, we are selecting the first element\n--    geometry is the field we are selecting from features\n--\n-- the result of > select data:features[0].geometry geom from cec\n--     is one record named geom, \n--\n-- try_to_geometry\n--     is used to attempt to convert a given value (such as a string) into a geospatial geometry object.\n--     A string that represents a Well-Known Text (WKT) representation of a geometry object (such as POINT, LINESTRING, POLYGON, etc.) or any other valid geometry format. It can be a string literal, column, or any other expression that results in a string.\n--     looks like this cell is testing out what we can do\n\n-- as seen in the result of this cell is a bunch of lat long coordinates\n\n\n\nwith cte as (\nselect data:features[0].geometry geom from cec)\nselect try_to_geometry(geom::string) geom\nfrom cte",
   "execution_count": null
  },
  {
   "cell_type": "code",
   "id": "e9ac4169-3c0c-454c-b8d2-ed14f927eae4",
   "metadata": {
    "language": "sql",
    "name": "cell6",
    "resultHeight": 252,
    "collapsed": false
   },
   "outputs": [],
   "source": "-- The result of this step is view with bunch of LINESTRING records each with a number of coordinates\n-- \n-- f.value:geometry::string\n--    f.value is accessing the individual values in the array stored in cec.data:feature\n--\n--    The TO_GEOMETRY() function is used to convert the string representation of a geometry (e.g., GeoJSON-like format) into an actual Snowflake geometry object (like POINT, LINESTRING, POLYGON, etc.).\n--\n-- The ST_ASWKT() function converts the geometry object into a Well-Known Text (WKT) representation, which is a textual representation of a geometry.\n--\n--\n-- The FLATTEN function is used to expand a nested array (in this case, cec.data:features\n-- The LATERAL keyword allows you to reference the preceding row (i.e., the row from cec) inside the FLATTEN function.\n\ncreate or replace view transmissions_sample AS \nselect ST_ASWKT(to_geometry(f.value:geometry::string)) geom\nfrom cec,\nlateral flatten(input => cec.data:features) as f\nlimit 500;\nselect * from transmissions_sample limit 5;",
   "execution_count": null
  },
  {
   "cell_type": "code",
   "id": "49fd8288-840d-4c85-917c-dff368798728",
   "metadata": {
    "language": "python",
    "name": "cell7",
    "resultHeight": 565,
    "collapsed": false
   },
   "outputs": [],
   "source": "# Let's see a H3 map of our data, we chose a level of 5, update as appropriate or make it dynamic\n# Hover over a cell and see the number of expired registrations\n#\nimport streamlit as st\nimport pandas as pd\nimport pydeck as pdk\nfrom snowflake.snowpark.context import get_active_session\nsession = get_active_session()\n\ndf = session.table('transmissions_sample').to_pandas()\n\n# Process WKT to extract coordinates (assuming POINT geometries for simplicity)\nimport shapely.wkt as wkt\n\ndef extract_coordinates(wkt_geom):\n    geom = wkt.loads(wkt_geom)\n    if geom.geom_type == 'Point':\n        return [(geom.x, geom.y)]\n    elif geom.geom_type in ['MultiPoint', 'LineString', 'Polygon']:\n        return list(geom.coords)\n    elif geom.geom_type in ['MultiLineString', 'MultiPolygon']:\n        coords = []\n        for part in geom.geoms:\n            coords.extend(part.coords)\n        return coords\n    else:\n        return []\n\n# Extract coordinates\ndf['coordinates'] = df['GEOM'].apply(extract_coordinates)\n\n# Flatten the coordinates into separate rows for visualization\nflattened_data = []\nfor idx, row in df.iterrows():\n    for coord in row['coordinates']:\n        flattened_data.append({'latitude': coord[1], 'longitude': coord[0]})\n\nmap_data = pd.DataFrame(flattened_data)\n\n# Define pydeck visualization\nlayer = pdk.Layer(\n    'ScatterplotLayer',\n    data=map_data,\n    get_position='[longitude, latitude]',\n    get_radius=100,\n    get_fill_color='[255, 0, 0, 200]',\n    pickable=True,\n)\n\nview_state = pdk.ViewState(\n    longitude=map_data['longitude'].mean(),\n    latitude=map_data['latitude'].mean(),\n    zoom=10,\n    pitch=50,\n)\n\n# mapbox API key\nmbkey = ''\n\n# define map details - layers, map provider, initial state, tooltip\ndeck_all_layers = pdk.Deck(\n        map_provider = 'mapbox',\n        api_keys = {\"mapbox\":mbkey},\n        map_style = 'mapbox://styles/mapbox/light-v11',\n        layers=[\n             layer\n               ], \n        tooltip={\"text\": \"{latitude}, {longitude}\"},\n        initial_view_state=pdk.ViewState(\n            #Sac 38.5781° N, 121.4944° W\n            latitude=38.5781,\n            longitude=-121.4944,\n            zoom=7,\n            pitch=30\n            )\n        )\n\nst.write(\"transmission lines\")\n\n# Display the map\nst.pydeck_chart(deck_all_layers)",
   "execution_count": null
  }
 ]
}