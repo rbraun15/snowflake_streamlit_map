{
 "metadata": {
  "kernelspec": {
   "display_name": "Streamlit Notebook",
   "name": "streamlit"
  }
 },
 "nbformat_minor": 5,
 "nbformat": 4,
 "cells": [
  {
   "cell_type": "code",
   "id": "780654b7-cf8c-482f-97bf-75fc75ebe64b",
   "metadata": {
    "language": "sql",
    "name": "cell4",
    "collapsed": false,
    "resultHeight": 112
   },
   "outputs": [],
   "source": "use database demo_map;\nuse schema addresses;",
   "execution_count": null
  },
  {
   "cell_type": "code",
   "id": "7d6d26a9-f589-425b-8498-e94b30f4aa70",
   "metadata": {
    "language": "python",
    "name": "cell6",
    "collapsed": false,
    "resultHeight": 0
   },
   "outputs": [],
   "source": "# We can also use Snowpark for our analyses!\nfrom snowflake.snowpark.session import Session\nfrom snowflake.snowpark.context import get_active_session\nsession = get_active_session()\nimport snowflake.snowpark.functions as F",
   "execution_count": null
  },
  {
   "cell_type": "code",
   "id": "58cd2953-4042-4580-a622-7c5977065b21",
   "metadata": {
    "language": "python",
    "name": "cell7",
    "collapsed": false,
    "resultHeight": 195
   },
   "outputs": [],
   "source": "addr_query = \"SELECT  ADDR_STRING FROM demo_map.addresses.ADDRESSES_TO_PARSE WHERE ADDR_STRING IS NOT NULL\"\naddr_data = session.sql(addr_query)\naddr_data.show()",
   "execution_count": null
  },
  {
   "cell_type": "code",
   "id": "1abb6247-a635-42f5-b5e9-132814e29edf",
   "metadata": {
    "language": "python",
    "name": "cell10",
    "collapsed": false,
    "resultHeight": 195
   },
   "outputs": [],
   "source": " \naddr_data = session.sql(\"SELECT  ADDR_STRING FROM demo_map.addresses.ADDRESSES_TO_PARSE WHERE ADDR_STRING IS NOT NULL\")\naddr_data.show()",
   "execution_count": null
  },
  {
   "cell_type": "code",
   "id": "629c04e7-6331-4288-9c38-22c494854417",
   "metadata": {
    "language": "python",
    "name": "cell8",
    "collapsed": false,
    "resultHeight": 195
   },
   "outputs": [],
   "source": "current_df  = session.table(\"demo_map.addresses.ADDRESSES_TO_PARSE\")\ncurrent_df.show()",
   "execution_count": null
  },
  {
   "cell_type": "code",
   "id": "efa13e3f-d2f6-4060-bcb9-c81a93e31079",
   "metadata": {
    "language": "python",
    "name": "cell13",
    "collapsed": false,
    "resultHeight": 217
   },
   "outputs": [],
   "source": "import re\nimport pandas as pd\n\n# Define the regex pattern for address parsing\ndef parse_address(address):\n    pattern = r'(\\d+[A-Za-z0-9]*)\\s+([A-Za-z]+(?:\\s[A-Za-z]+)*)\\s+(St|Ave|Blvd|Rd|Ln|Dr|Ct|Pkwy|Road)\\s*,?\\s*([A-Za-z\\s]+),\\s*([A-Za-z]{2})\\s*(\\d{5})'\n    \n    match = re.match(pattern, address)\n    \n    if match:\n        house_number = match.group(1)\n        street_name = match.group(2)\n        street_type = match.group(3)\n        city = match.group(4).strip()\n        state = match.group(5)\n        zip_code = match.group(6)\n        return house_number, street_name, street_type, city, state, zip_code\n    else:\n        return None, None, None, None, None, None\n\n# Retrieve data from the Snowflake table\n#addresses_df = session.sql(\"SELECT   ADDR_STRING FROM demo_map.addresses.ADDRESSES_TO_PARSE WHERE ADDR_STRING IS NOT NULL\")\naddresses_df = session.sql(\"SELECT ROW_ID, ADDR_STRING FROM demo_map.addresses.ADDRESSES_TO_PARSE WHERE ADDR_STRING IS NOT NULL\")\n\n# Collect Snowpark DataFrame into Pandas DataFrame\naddresses_df = addresses_df.to_pandas()\n\n \n\n# Parse the address for each row and store the results in separate columns\naddresses_df[['NUMBER', 'STREET', 'STREET_TYPE', 'CITY', 'STATE', 'ZIP']] = addresses_df['ADDR_STRING'].apply(\n    lambda x: pd.Series(parse_address(x))\n)\n\n\n# print(addresses_df.head()) \n#print(addresses_df)\ntable_name = \"ADDRESSES_PARSED\"\n\n# commented out below, it was for initial table creation\n#session.write_pandas(addresses_df, table_name, auto_create_table=True, overwrite=True)\n\n# for ongoing purposes we want to append, so will change overwrite=False\nsession.write_pandas(addresses_df, table_name, auto_create_table=True, overwrite=False)\n \n \n \n\n",
   "execution_count": null
  },
  {
   "cell_type": "code",
   "id": "90d5a686-eeb9-4d91-a1a0-88606e5eed56",
   "metadata": {
    "language": "python",
    "name": "cell3",
    "resultHeight": 83,
    "collapsed": false
   },
   "outputs": [],
   "source": " \nget_active_session()\n",
   "execution_count": null
  }
 ]
}